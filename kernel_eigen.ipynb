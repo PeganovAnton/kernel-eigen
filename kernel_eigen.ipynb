{
 "cells": [
  {
   "cell_type": "markdown",
   "metadata": {},
   "source": [
    "# <font color=blue> Random matrices</font>\n",
    "\n",
    "Compute eigen values and norms of eigen vectors of random matrices.\n",
    "\n",
    "Let $E_n$ be the expected number of real eigenvalues of random normal matrix $M$ of shape $n \\times n$. Than \n",
    "$$\\lim\\limits_{n \\to \\infty} \\frac{E_n}{\\sqrt n} = \\sqrt{\\frac{2}{\\pi}}$$"
   ]
  },
  {
   "cell_type": "code",
   "execution_count": 14,
   "metadata": {
    "scrolled": false
   },
   "outputs": [
    {
     "name": "stdout",
     "output_type": "stream",
     "text": [
      "1000\n",
      "[0.        1.9999999]\n",
      "[[ 0.70710677  0.70710677]\n",
      " [ 0.70710677 -0.70710677]]\n",
      "Number of complex in uniform: 0\n",
      "Number of complex in normal: 0\n",
      "Number of complex in rotation: 0\n"
     ]
    }
   ],
   "source": [
    "import numpy as np\n",
    "import tensorflow.compat.v1 as tf\n",
    "\n",
    "\n",
    "uniform = tf.random.uniform(shape=[1000, 1000], minval=-1, maxval=1)\n",
    "normal = tf.random.normal(shape=[1000, 1000])\n",
    "\n",
    "e_un, v_un = tf.linalg.eigh(uniform)\n",
    "e_no, v_no = tf.linalg.eigh(uniform)\n",
    "\n",
    "rotation = tf.constant([[1., 1.], [-1., 1.]])\n",
    "e_rot, v_rot = tf.linalg.eigh(rotation)\n",
    "\n",
    "config = tf.ConfigProto()\n",
    "config.gpu_options.allow_growth = True\n",
    "with tf.Session(config=config) as sess:\n",
    "    eun, evn, eno, vno, erot, vrot = sess.run([e_un, v_un, e_no, v_no, e_rot, v_rot])\n",
    "    print(len(eun))\n",
    "    print(erot)\n",
    "    print(vrot)\n",
    "    print(\"Number of complex in uniform:\", np.sum(np.iscomplex(eun).astype(int)))\n",
    "    print(\"Number of complex in normal:\", np.sum(np.iscomplex(eno).astype(int)))\n",
    "    print(\"Number of complex in rotation:\", np.sum(np.iscomplex(erot).astype(int)))"
   ]
  },
  {
   "cell_type": "code",
   "execution_count": 19,
   "metadata": {},
   "outputs": [
    {
     "name": "stdout",
     "output_type": "stream",
     "text": [
      "Collecting matplotlib\n",
      "  Using cached https://files.pythonhosted.org/packages/57/4f/dd381ecf6c6ab9bcdaa8ea912e866dedc6e696756156d8ecc087e20817e2/matplotlib-3.1.1-cp36-cp36m-manylinux1_x86_64.whl\n",
      "Requirement already satisfied: pyparsing!=2.0.4,!=2.1.2,!=2.1.6,>=2.0.1 in /home/anton/ncenv/lib/python3.6/site-packages (from matplotlib) (2.4.2)\n",
      "Requirement already satisfied: python-dateutil>=2.1 in /home/anton/ncenv/lib/python3.6/site-packages (from matplotlib) (2.8.0)\n",
      "Collecting cycler>=0.10\n",
      "  Using cached https://files.pythonhosted.org/packages/f7/d2/e07d3ebb2bd7af696440ce7e754c59dd546ffe1bbe732c8ab68b9c834e61/cycler-0.10.0-py2.py3-none-any.whl\n",
      "Requirement already satisfied: numpy>=1.11 in /home/anton/ncenv/lib/python3.6/site-packages (from matplotlib) (1.17.1)\n",
      "Collecting kiwisolver>=1.0.1\n",
      "\u001b[?25l  Downloading https://files.pythonhosted.org/packages/f8/a1/5742b56282449b1c0968197f63eae486eca2c35dcd334bab75ad524e0de1/kiwisolver-1.1.0-cp36-cp36m-manylinux1_x86_64.whl (90kB)\n",
      "\u001b[K     |████████████████████████████████| 92kB 811kB/s eta 0:00:01\n",
      "\u001b[?25hRequirement already satisfied: six>=1.5 in /home/anton/ncenv/lib/python3.6/site-packages (from python-dateutil>=2.1->matplotlib) (1.12.0)\n",
      "Requirement already satisfied: setuptools in /home/anton/ncenv/lib/python3.6/site-packages (from kiwisolver>=1.0.1->matplotlib) (41.2.0)\n",
      "Installing collected packages: cycler, kiwisolver, matplotlib\n",
      "Successfully installed cycler-0.10.0 kiwisolver-1.1.0 matplotlib-3.1.1\n"
     ]
    }
   ],
   "source": [
    "!pip install matplotlib"
   ]
  },
  {
   "cell_type": "code",
   "execution_count": 6,
   "metadata": {
    "scrolled": false
   },
   "outputs": [
    {
     "name": "stdout",
     "output_type": "stream",
     "text": [
      "974\n"
     ]
    },
    {
     "data": {
      "image/png": "[encoded data removed]",
      "text/plain": [
       "<Figure size 432x288 with 1 Axes>"
      ]
     },
     "metadata": {
      "needs_background": "light"
     },
     "output_type": "display_data"
    }
   ],
   "source": [
    "%matplotlib inline \n",
    "\n",
    "import matplotlib.pyplot as plt\n",
    "import numpy as np\n",
    "\n",
    "\n",
    "m = (np.random.randn(1000, 1000) - 1.) * 2\n",
    "e, v = np.linalg.eig(m)\n",
    "n = np.sum(np.iscomplex(e).astype(int))\n",
    "print(n)\n",
    "a = np.abs(e)\n",
    "a = np.extract(a < 50, a)\n",
    "# print(a)\n",
    "plt.hist(a, bins=100)\n",
    "plt.yscale('linear')\n",
    "plt.show()"
   ]
  },
  {
   "cell_type": "markdown",
   "metadata": {},
   "source": [
    "Computing eigen values of kernel change. Thr kernel change is computed as follows.\n",
    "\n",
    "$$\\Omega^\\ell = \\sum_{b=1}^B {h^{\\ell-1,b}}^T \\pi^{\\ell, b}$$"
   ]
  },
  {
   "cell_type": "code",
   "execution_count": 7,
   "metadata": {
    "scrolled": false
   },
   "outputs": [
    {
     "name": "stdout",
     "output_type": "stream",
     "text": [
      "982\n"
     ]
    },
    {
     "data": {
      "image/png": "[encoded data removed]",
      "text/plain": [
       "<Figure size 432x288 with 1 Axes>"
      ]
     },
     "metadata": {
      "needs_background": "light"
     },
     "output_type": "display_data"
    }
   ],
   "source": [
    "%matplotlib inline \n",
    "\n",
    "import matplotlib.pyplot as plt\n",
    "import numpy as np\n",
    "\n",
    "\n",
    "matrix = np.zeros((100, 1000, 1000))\n",
    "\n",
    "for _ in range(100):\n",
    "    matrix += np.random.randn(100, 1000, 1) * np.random.randn(100, 1, 1000)\n",
    "\n",
    "matrix = np.sum(matrix, axis=0)\n",
    "sigma = np.mean(matrix**2)**0.5\n",
    "matrix /= sigma\n",
    "\n",
    "e, v = np.linalg.eig(matrix)\n",
    "n = np.sum(np.iscomplex(e).astype(int))\n",
    "print(n)\n",
    "a = np.abs(e)\n",
    "a = np.extract(a < 500, a)\n",
    "# print(a)\n",
    "plt.hist(a, bins=100)\n",
    "plt.yscale('linear')\n",
    "plt.show()"
   ]
  },
  {
   "cell_type": "code",
   "execution_count": 12,
   "metadata": {},
   "outputs": [],
   "source": [
    "import numpy as np\n",
    "\n",
    "\n",
    "def get_normal_real_eigen_matrix(n):\n",
    "    d = np.random.randn(n)\n",
    "    eigen_vectors_basis_m = np.diag(d)\n",
    "    eigen_vectors = np.random.randn(n, n)\n",
    "    \n",
    "    norms = np.linalg.norm(eigen_vectors, axis=0, keepdims=True)\n",
    "    # print(norms)\n",
    "    eigen_vectors /= norms\n",
    "    print(eigen_vectors[10:, 10:])\n",
    "    inv = np.linalg.inv(eigen_vectors)\n",
    "    print(inv[10:, 10:])\n",
    "    matrix = inv @ eigen_vectors_basis_m @ eigen_vectors\n",
    "    return matrix\n",
    "\n",
    "\n",
    "def get_diag_matrix(n):\n",
    "    d = np.random.randn(n)\n",
    "    return np.diag(d)"
   ]
  },
  {
   "cell_type": "code",
   "execution_count": 13,
   "metadata": {
    "scrolled": false
   },
   "outputs": [
    {
     "name": "stdout",
     "output_type": "stream",
     "text": [
      "[[ 0.012081    0.0200243   0.01635927 ...  0.01183312  0.00077174\n",
      "  -0.04855943]\n",
      " [ 0.00013382 -0.00085033  0.00105765 ... -0.03570288 -0.05233384\n",
      "  -0.03459693]\n",
      " [ 0.00346729 -0.00518812  0.01693182 ... -0.02802612  0.01897172\n",
      "   0.0281387 ]\n",
      " ...\n",
      " [-0.0232477  -0.12064904  0.06294077 ...  0.015372    0.01126619\n",
      "   0.04083935]\n",
      " [-0.00783774 -0.00688078 -0.04642929 ...  0.05046186 -0.05861172\n",
      "   0.03637235]\n",
      " [ 0.01326008  0.01509607  0.02384601 ... -0.028725   -0.03248443\n",
      "  -0.03795488]]\n",
      "[[ 0.48982579  0.0938397  -0.05708689 ...  1.36792245 -0.50586927\n",
      "  -1.64509336]\n",
      " [ 9.01208357 -4.11490766  7.66710315 ...  0.26222639 -5.35408345\n",
      "  -5.40271811]\n",
      " [-8.88457953  2.43819943 -4.42028257 ... -4.15728202  8.39082776\n",
      "   6.4920817 ]\n",
      " ...\n",
      " [ 1.85915099 -1.7432165   1.41154218 ...  2.56253463 -2.37105779\n",
      "  -2.82968081]\n",
      " [ 3.09936566 -1.75403867  2.5319695  ... -0.22115318 -2.0949119\n",
      "  -1.62826862]\n",
      " [ 1.54153438 -0.71299416  1.93608095 ... -0.4868587  -0.4414522\n",
      "  -0.17625493]]\n",
      "[[-2.72319507e+00  1.35367807e+00 -6.12688029e+00 -2.62416288e+00\n",
      "  -2.24808376e+00  2.40494467e+00  1.18578868e+01  3.39551680e+00\n",
      "  -6.64169183e+00 -9.10441181e+00]\n",
      " [ 7.76320985e-01  3.44685648e-01  2.34757287e+00  7.09647457e-01\n",
      "   2.72267787e-01 -5.72528412e-01 -3.11238344e+00 -1.26270161e+00\n",
      "   2.20529490e+00  2.71525360e+00]\n",
      " [-1.62543285e+00 -8.26396176e-01 -4.89873564e+00 -2.56985895e+00\n",
      "  -2.08160420e+00  7.65705510e-01  5.50875073e+00  3.41847818e-02\n",
      "  -2.48265774e+00 -3.50004463e+00]\n",
      " [-2.43033309e-01 -1.81205663e-01  3.65725837e-01  1.04639598e-01\n",
      "   2.72005080e-01  2.55790325e-01  1.06733266e+00  6.12389231e-01\n",
      "  -1.42248913e+00 -1.03518552e+00]\n",
      " [ 8.04049380e-01  1.99503112e-01  3.38072119e+00  2.24560512e+00\n",
      "   9.44988519e-01 -1.30416248e+00 -4.12501915e+00  6.14845878e-03\n",
      "   1.46774150e+00  3.02121916e+00]\n",
      " [ 2.95642340e+00  3.02290173e-01  8.20868110e+00  4.88158895e+00\n",
      "   2.90654318e+00 -2.93023283e+00 -1.20557089e+01 -2.03566339e+00\n",
      "   5.74516849e+00  8.71487817e+00]\n",
      " [ 9.87350703e-01 -4.94134191e-01  3.04295898e+00  1.40862370e+00\n",
      "   8.78902474e-01 -1.16364975e+00 -4.50108581e+00 -9.75653835e-01\n",
      "   2.01852215e+00  3.14783628e+00]\n",
      " [ 1.05658392e+00 -4.19482765e-01  2.81239764e+00  1.87262269e+00\n",
      "   1.44117095e+00 -2.66413788e-01 -5.83322610e+00 -7.21122406e-01\n",
      "   2.47771463e+00  3.73795438e+00]\n",
      " [ 1.75678887e+00 -7.81614891e-01  4.63897290e+00  2.59220667e+00\n",
      "   1.70897142e+00 -2.02657888e+00 -9.35360650e+00 -1.77134925e+00\n",
      "   3.93503141e+00  5.49125184e+00]\n",
      " [ 3.86065932e+00 -1.05664429e+00  8.79950577e+00  5.51289990e+00\n",
      "   3.43370426e+00 -3.11946740e+00 -1.49745953e+01 -3.82584910e+00\n",
      "   7.52184740e+00  1.13363989e+01]]\n",
      "0\n"
     ]
    },
    {
     "data": {
      "image/png": "[encoded data removed]",
      "text/plain": [
       "<Figure size 432x288 with 1 Axes>"
      ]
     },
     "metadata": {
      "needs_background": "light"
     },
     "output_type": "display_data"
    }
   ],
   "source": [
    "%matplotlib inline \n",
    "\n",
    "import matplotlib.pyplot as plt\n",
    "import numpy as np\n",
    "\n",
    "\n",
    "m = get_normal_real_eigen_matrix(1000)\n",
    "print(m[:10, :10])\n",
    "e, v = np.linalg.eig(m)\n",
    "n = np.sum(np.iscomplex(e).astype(int))\n",
    "print(n)\n",
    "a = np.abs(e)\n",
    "a = np.extract(a < 50, a)\n",
    "# print(a)\n",
    "plt.hist(a, bins=100)\n",
    "plt.yscale('linear')\n",
    "plt.show()"
   ]
  },
  {
   "cell_type": "code",
   "execution_count": 5,
   "metadata": {},
   "outputs": [
    {
     "name": "stdout",
     "output_type": "stream",
     "text": [
      "0\n"
     ]
    },
    {
     "data": {
      "image/png": "[encoded data removed]",
      "text/plain": [
       "<Figure size 432x288 with 1 Axes>"
      ]
     },
     "metadata": {
      "needs_background": "light"
     },
     "output_type": "display_data"
    }
   ],
   "source": [
    "%matplotlib inline \n",
    "\n",
    "import matplotlib.pyplot as plt\n",
    "import numpy as np\n",
    "\n",
    "\n",
    "m = get_diag_matrix(1000)\n",
    "e, v = np.linalg.eig(m)\n",
    "n = np.sum(np.iscomplex(e).astype(int))\n",
    "print(n)\n",
    "a = np.abs(e)\n",
    "a = np.extract(a < 50, a)\n",
    "# print(a)\n",
    "plt.hist(a, bins=100)\n",
    "plt.yscale('linear')\n",
    "plt.show()"
   ]
  }
 ],
 "metadata": {
  "kernelspec": {
   "display_name": "Python 3",
   "language": "python",
   "name": "python3"
  },
  "language_info": {
   "codemirror_mode": {
    "name": "ipython",
    "version": 3
   },
   "file_extension": ".py",
   "mimetype": "text/x-python",
   "name": "python",
   "nbconvert_exporter": "python",
   "pygments_lexer": "ipython3",
   "version": "3.6.0"
  }
 },
 "nbformat": 4,
 "nbformat_minor": 2
}
